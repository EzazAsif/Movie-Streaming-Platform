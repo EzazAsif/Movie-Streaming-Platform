{
 "cells": [
  {
   "cell_type": "code",
   "execution_count": 231,
   "metadata": {},
   "outputs": [],
   "source": [
    "import pandas as pd\n",
    "from sklearn.feature_extraction.text import TfidfVectorizer\n",
    "import os"
   ]
  },
  {
   "cell_type": "code",
   "execution_count": 232,
   "metadata": {},
   "outputs": [],
   "source": [
    "#Creating and empty array\n",
    "\n",
    "PrimaryArray=[]\n",
    "SecendoryArray=[]"
   ]
  },
  {
   "cell_type": "code",
   "execution_count": 233,
   "metadata": {},
   "outputs": [],
   "source": [
    "# Check if the file is open\n",
    "if os.access(\"tmdb_5000_movies.csv\", os.R_OK):\n",
    "    df = pd.read_csv(\"tmdb_5000_movies.csv\")\n",
    "else:\n",
    "    print(\"File is open or you don't have permission to access it.\")\n",
    "df = pd.read_csv(\"tmdb_5000_movies.csv\")"
   ]
  },
  {
   "cell_type": "code",
   "execution_count": 234,
   "metadata": {},
   "outputs": [
    {
     "name": "stdout",
     "output_type": "stream",
     "text": [
      "      budget                                             genres  \\\n",
      "4798  220000  [{\"id\": 28, \"name\": \"Action\"}, {\"id\": 80, \"nam...   \n",
      "4799    9000  [{\"id\": 35, \"name\": \"Comedy\"}, {\"id\": 10749, \"...   \n",
      "4800       0  [{\"id\": 35, \"name\": \"Comedy\"}, {\"id\": 18, \"nam...   \n",
      "4801       0                                                 []   \n",
      "4802       0                [{\"id\": 99, \"name\": \"Documentary\"}]   \n",
      "\n",
      "                                               homepage      id  \\\n",
      "4798                                                NaN    9367   \n",
      "4799                                                NaN   72766   \n",
      "4800  http://www.hallmarkchannel.com/signedsealeddel...  231617   \n",
      "4801                        http://shanghaicalling.com/  126186   \n",
      "4802                                                NaN   25975   \n",
      "\n",
      "                                               keywords original_language  \\\n",
      "4798  [{\"id\": 5616, \"name\": \"united states\\u2013mexi...                es   \n",
      "4799                                                 []                en   \n",
      "4800  [{\"id\": 248, \"name\": \"date\"}, {\"id\": 699, \"nam...                en   \n",
      "4801                                                 []                en   \n",
      "4802  [{\"id\": 1523, \"name\": \"obsession\"}, {\"id\": 224...                en   \n",
      "\n",
      "                 original_title  \\\n",
      "4798                El Mariachi   \n",
      "4799                  Newlyweds   \n",
      "4800  Signed, Sealed, Delivered   \n",
      "4801           Shanghai Calling   \n",
      "4802          My Date with Drew   \n",
      "\n",
      "                                               overview  popularity  \\\n",
      "4798  El Mariachi just wants to play his guitar and ...   14.269792   \n",
      "4799  A newlywed couple's honeymoon is upended by th...    0.642552   \n",
      "4800  \"Signed, Sealed, Delivered\" introduces a dedic...    1.444476   \n",
      "4801  When ambitious New York attorney Sam is sent t...    0.857008   \n",
      "4802  Ever since the second grade when he first saw ...    1.929883   \n",
      "\n",
      "                                   production_companies  \\\n",
      "4798           [{\"name\": \"Columbia Pictures\", \"id\": 5}]   \n",
      "4799                                                 []   \n",
      "4800  [{\"name\": \"Front Street Pictures\", \"id\": 3958}...   \n",
      "4801                                                 []   \n",
      "4802  [{\"name\": \"rusty bear entertainment\", \"id\": 87...   \n",
      "\n",
      "                                   production_countries release_date  revenue  \\\n",
      "4798  [{\"iso_3166_1\": \"MX\", \"name\": \"Mexico\"}, {\"iso...   1992-09-04  2040920   \n",
      "4799                                                 []   2011-12-26        0   \n",
      "4800  [{\"iso_3166_1\": \"US\", \"name\": \"United States o...   2013-10-13        0   \n",
      "4801  [{\"iso_3166_1\": \"US\", \"name\": \"United States o...   2012-05-03        0   \n",
      "4802  [{\"iso_3166_1\": \"US\", \"name\": \"United States o...   2005-08-05        0   \n",
      "\n",
      "      runtime                               spoken_languages    status  \\\n",
      "4798     81.0  [{\"iso_639_1\": \"es\", \"name\": \"Espa\\u00f1ol\"}]  Released   \n",
      "4799     85.0                                             []  Released   \n",
      "4800    120.0       [{\"iso_639_1\": \"en\", \"name\": \"English\"}]  Released   \n",
      "4801     98.0       [{\"iso_639_1\": \"en\", \"name\": \"English\"}]  Released   \n",
      "4802     90.0       [{\"iso_639_1\": \"en\", \"name\": \"English\"}]  Released   \n",
      "\n",
      "                                                tagline  \\\n",
      "4798  He didn't come looking for trouble, but troubl...   \n",
      "4799  A newlywed couple's honeymoon is upended by th...   \n",
      "4800                                                NaN   \n",
      "4801                           A New Yorker in Shanghai   \n",
      "4802                                                NaN   \n",
      "\n",
      "                          title  vote_average  vote_count  \n",
      "4798                El Mariachi           6.6         238  \n",
      "4799                  Newlyweds           5.9           5  \n",
      "4800  Signed, Sealed, Delivered           7.0           6  \n",
      "4801           Shanghai Calling           5.7           7  \n",
      "4802          My Date with Drew           6.3          16  \n"
     ]
    }
   ],
   "source": [
    "print(df.tail())"
   ]
  },
  {
   "cell_type": "code",
   "execution_count": 235,
   "metadata": {},
   "outputs": [
    {
     "name": "stdout",
     "output_type": "stream",
     "text": [
      "budget                     0\n",
      "genres                     0\n",
      "homepage                3091\n",
      "id                         0\n",
      "keywords                   0\n",
      "original_language          0\n",
      "original_title             0\n",
      "overview                   3\n",
      "popularity                 0\n",
      "production_companies       0\n",
      "production_countries       0\n",
      "release_date               1\n",
      "revenue                    0\n",
      "runtime                    2\n",
      "spoken_languages           0\n",
      "status                     0\n",
      "tagline                  844\n",
      "title                      0\n",
      "vote_average               0\n",
      "vote_count                 0\n",
      "dtype: int64\n"
     ]
    }
   ],
   "source": [
    "print(df.isnull().sum())"
   ]
  },
  {
   "cell_type": "code",
   "execution_count": 236,
   "metadata": {},
   "outputs": [
    {
     "name": "stdout",
     "output_type": "stream",
     "text": [
      "budget                     0\n",
      "genres                     0\n",
      "homepage                3091\n",
      "id                         0\n",
      "keywords                   0\n",
      "original_language          0\n",
      "original_title             0\n",
      "overview                   0\n",
      "popularity                 0\n",
      "production_companies       0\n",
      "production_countries       0\n",
      "release_date               1\n",
      "revenue                    0\n",
      "runtime                    0\n",
      "spoken_languages           0\n",
      "status                     0\n",
      "tagline                    0\n",
      "title                      0\n",
      "vote_average               0\n",
      "vote_count                 0\n",
      "dtype: int64\n"
     ]
    },
    {
     "name": "stderr",
     "output_type": "stream",
     "text": [
      "C:\\Users\\USER\\AppData\\Local\\Temp\\ipykernel_18900\\931002391.py:3: FutureWarning: A value is trying to be set on a copy of a DataFrame or Series through chained assignment using an inplace method.\n",
      "The behavior will change in pandas 3.0. This inplace method will never work because the intermediate object on which we are setting values always behaves as a copy.\n",
      "\n",
      "For example, when doing 'df[col].method(value, inplace=True)', try using 'df.method({col: value}, inplace=True)' or df[col] = df[col].method(value) instead, to perform the operation inplace on the original object.\n",
      "\n",
      "\n",
      "  df['runtime'].fillna(df['runtime'].median(), inplace=True)\n"
     ]
    }
   ],
   "source": [
    "df['overview'] = df['overview'].fillna(' ')\n",
    "df['tagline'] = df['tagline'].fillna(' ')\n",
    "df['runtime'].fillna(df['runtime'].median(), inplace=True)\n",
    "\n",
    "print(df.isnull().sum())"
   ]
  },
  {
   "cell_type": "code",
   "execution_count": 237,
   "metadata": {},
   "outputs": [
    {
     "name": "stdout",
     "output_type": "stream",
     "text": [
      "      budget                                             genres  \\\n",
      "0  237000000  [{\"id\": 28, \"name\": \"Action\"}, {\"id\": 12, \"nam...   \n",
      "1  300000000  [{\"id\": 12, \"name\": \"Adventure\"}, {\"id\": 14, \"...   \n",
      "2  245000000  [{\"id\": 28, \"name\": \"Action\"}, {\"id\": 12, \"nam...   \n",
      "3  250000000  [{\"id\": 28, \"name\": \"Action\"}, {\"id\": 80, \"nam...   \n",
      "4  260000000  [{\"id\": 28, \"name\": \"Action\"}, {\"id\": 12, \"nam...   \n",
      "\n",
      "                                       homepage      id  \\\n",
      "0                   http://www.avatarmovie.com/   19995   \n",
      "1  http://disney.go.com/disneypictures/pirates/     285   \n",
      "2   http://www.sonypictures.com/movies/spectre/  206647   \n",
      "3            http://www.thedarkknightrises.com/   49026   \n",
      "4          http://movies.disney.com/john-carter   49529   \n",
      "\n",
      "                                            keywords original_language  \\\n",
      "0  [{\"id\": 1463, \"name\": \"culture clash\"}, {\"id\":...                en   \n",
      "1  [{\"id\": 270, \"name\": \"ocean\"}, {\"id\": 726, \"na...                en   \n",
      "2  [{\"id\": 470, \"name\": \"spy\"}, {\"id\": 818, \"name...                en   \n",
      "3  [{\"id\": 849, \"name\": \"dc comics\"}, {\"id\": 853,...                en   \n",
      "4  [{\"id\": 818, \"name\": \"based on novel\"}, {\"id\":...                en   \n",
      "\n",
      "                             original_title  \\\n",
      "0                                    Avatar   \n",
      "1  Pirates of the Caribbean: At World's End   \n",
      "2                                   Spectre   \n",
      "3                     The Dark Knight Rises   \n",
      "4                               John Carter   \n",
      "\n",
      "                                            overview  popularity  \\\n",
      "0  In the 22nd century, a paraplegic Marine is di...  150.437577   \n",
      "1  Captain Barbossa, long believed to be dead, ha...  139.082615   \n",
      "2  A cryptic message from Bond’s past sends him o...  107.376788   \n",
      "3  Following the death of District Attorney Harve...  112.312950   \n",
      "4  John Carter is a war-weary, former military ca...   43.926995   \n",
      "\n",
      "                                production_companies  \\\n",
      "0  [{\"name\": \"Ingenious Film Partners\", \"id\": 289...   \n",
      "1  [{\"name\": \"Walt Disney Pictures\", \"id\": 2}, {\"...   \n",
      "2  [{\"name\": \"Columbia Pictures\", \"id\": 5}, {\"nam...   \n",
      "3  [{\"name\": \"Legendary Pictures\", \"id\": 923}, {\"...   \n",
      "4        [{\"name\": \"Walt Disney Pictures\", \"id\": 2}]   \n",
      "\n",
      "                                production_countries release_date     revenue  \\\n",
      "0  [{\"iso_3166_1\": \"US\", \"name\": \"United States o...   2009-12-10  2787965087   \n",
      "1  [{\"iso_3166_1\": \"US\", \"name\": \"United States o...   2007-05-19   961000000   \n",
      "2  [{\"iso_3166_1\": \"GB\", \"name\": \"United Kingdom\"...   2015-10-26   880674609   \n",
      "3  [{\"iso_3166_1\": \"US\", \"name\": \"United States o...   2012-07-16  1084939099   \n",
      "4  [{\"iso_3166_1\": \"US\", \"name\": \"United States o...   2012-03-07   284139100   \n",
      "\n",
      "    runtime                                   spoken_languages    status  \\\n",
      "0  0.479290  [{\"iso_639_1\": \"en\", \"name\": \"English\"}, {\"iso...  Released   \n",
      "1  0.500000           [{\"iso_639_1\": \"en\", \"name\": \"English\"}]  Released   \n",
      "2  0.437870  [{\"iso_639_1\": \"fr\", \"name\": \"Fran\\u00e7ais\"},...  Released   \n",
      "3  0.488166           [{\"iso_639_1\": \"en\", \"name\": \"English\"}]  Released   \n",
      "4  0.390533           [{\"iso_639_1\": \"en\", \"name\": \"English\"}]  Released   \n",
      "\n",
      "                                          tagline  \\\n",
      "0                     Enter the World of Pandora.   \n",
      "1  At the end of the world, the adventure begins.   \n",
      "2                           A Plan No One Escapes   \n",
      "3                                 The Legend Ends   \n",
      "4            Lost in our world, found in another.   \n",
      "\n",
      "                                      title  vote_average  vote_count  \n",
      "0                                    Avatar           7.2    0.858057  \n",
      "1  Pirates of the Caribbean: At World's End           6.9    0.327225  \n",
      "2                                   Spectre           6.3    0.324753  \n",
      "3                     The Dark Knight Rises           7.6    0.662158  \n",
      "4                               John Carter           6.1    0.154450  \n"
     ]
    }
   ],
   "source": [
    "from sklearn.preprocessing import MinMaxScaler\n",
    "\n",
    "# Create a MinMaxScaler object\n",
    "scaler = MinMaxScaler()\n",
    "\n",
    "# Perform min-max scaling on 'runtime' and 'imdb_votes' columns\n",
    "df[['runtime', 'vote_count']] = scaler.fit_transform(df[['runtime', 'vote_count']])\n",
    "\n",
    "print(df.head())"
   ]
  },
  {
   "cell_type": "code",
   "execution_count": 238,
   "metadata": {},
   "outputs": [
    {
     "data": {
      "image/png": "[encoded data removed]",
      "text/plain": [
       "<Figure size 640x480 with 2 Axes>"
      ]
     },
     "metadata": {},
     "output_type": "display_data"
    }
   ],
   "source": [
    "import seaborn as sns\n",
    "import matplotlib.pyplot as plt\n",
    "\n",
    "correlation_matrix = df[['runtime', 'vote_average', 'vote_count']].corr()\n",
    "sns.heatmap(correlation_matrix, annot=True, cmap='coolwarm', fmt=\".01f\")\n",
    "plt.title('Correlation Matrix', fontsize=4)\n",
    "plt.xticks(fontsize=4)\n",
    "plt.yticks(fontsize=4)\n",
    "plt.show()\n"
   ]
  },
  {
   "cell_type": "code",
   "execution_count": 239,
   "metadata": {},
   "outputs": [],
   "source": [
    "import json\n",
    "def transform(column):\n",
    "    array2 = []\n",
    "    # [{\"id\": 1562, \"name\": \"hostage\"}, {\"id\": 2343, \"name\": \"magic\"}, {\"id\": 2673, \"name\": \"horse\"}, {\"id\": 3205, \"name\": \"fairy tale\"}, {\"id\": 4344, \"name\": \"musical\"}, {\"id\": 7376, \"name\": \"princess\"}, {\"id\": 10336, \"name\": \"animation\"}, {\"id\": 33787, \"name\": \"tower\"}, {\"id\": 155658, \"name\": \"blonde woman\"}, {\"id\": 162219, \"name\": \"selfishness\"}, {\"id\": 163545, \"name\": \"healing power\"}, {\"id\": 179411, \"name\": \"based on fairy tale\"}, {\"id\": 179431, \"name\": \"duringcreditsstinger\"}, {\"id\": 215258, \"name\": \"healing gift\"}, {\"id\": 234183, \"name\": \"animal sidekick\"}]\n",
    "    for index, row in df.iterrows():\n",
    "        keywords = row[column]\n",
    "        array = json.loads(keywords)\n",
    "        str = \"\"\n",
    "        for i in array:\n",
    "            str += i[\"name\"] + \", \"\n",
    "        array2.append(str)\n",
    "    df[column] = array2\n",
    "    print(df[column])"
   ]
  },
  {
   "cell_type": "code",
   "execution_count": 240,
   "metadata": {},
   "outputs": [
    {
     "name": "stdout",
     "output_type": "stream",
     "text": [
      "0       culture clash, future, space war, space colony...\n",
      "1       ocean, drug abuse, exotic island, east india t...\n",
      "2       spy, based on novel, secret agent, sequel, mi6...\n",
      "3       dc comics, crime fighter, terrorist, secret id...\n",
      "4       based on novel, mars, medallion, space travel,...\n",
      "                              ...                        \n",
      "4798    united states–mexico barrier, legs, arms, pape...\n",
      "4799                                                     \n",
      "4800    date, love at first sight, narration, investig...\n",
      "4801                                                     \n",
      "4802            obsession, camcorder, crush, dream girl, \n",
      "Name: keywords, Length: 4803, dtype: object\n",
      "0       Action, Adventure, Fantasy, Science Fiction, \n",
      "1                        Adventure, Fantasy, Action, \n",
      "2                          Action, Adventure, Crime, \n",
      "3                    Action, Crime, Drama, Thriller, \n",
      "4                Action, Adventure, Science Fiction, \n",
      "                            ...                      \n",
      "4798                        Action, Crime, Thriller, \n",
      "4799                                Comedy, Romance, \n",
      "4800               Comedy, Drama, Romance, TV Movie, \n",
      "4801                                                 \n",
      "4802                                    Documentary, \n",
      "Name: genres, Length: 4803, dtype: object\n",
      "0                                    English, Español, \n",
      "1                                             English, \n",
      "2       Français, English, Español, Italiano, Deutsch, \n",
      "3                                             English, \n",
      "4                                             English, \n",
      "                             ...                       \n",
      "4798                                          Español, \n",
      "4799                                                   \n",
      "4800                                          English, \n",
      "4801                                          English, \n",
      "4802                                          English, \n",
      "Name: spoken_languages, Length: 4803, dtype: object\n"
     ]
    }
   ],
   "source": [
    "\n",
    "transform(\"keywords\")\n",
    "transform(\"genres\")\n",
    "transform(\"spoken_languages\")"
   ]
  },
  {
   "cell_type": "code",
   "execution_count": 241,
   "metadata": {},
   "outputs": [],
   "source": [
    "from sklearn.feature_extraction.text import TfidfVectorizer\n",
    "def matrix_creator(column):\n",
    "    tfidf = TfidfVectorizer(stop_words='english')\n",
    "    tfidf_matrix = tfidf.fit_transform(df[column])\n",
    "\n",
    "    return(tfidf_matrix)"
   ]
  },
  {
   "cell_type": "code",
   "execution_count": 242,
   "metadata": {},
   "outputs": [],
   "source": [
    "tfidf_matrix=matrix_creator('genres')\n",
    "tfidf_matrix2=matrix_creator('keywords')\n",
    "tfidf_matrix3=matrix_creator('spoken_languages')\n",
    "tfidf_matrix4=matrix_creator('overview')"
   ]
  },
  {
   "cell_type": "code",
   "execution_count": 243,
   "metadata": {},
   "outputs": [],
   "source": [
    "from sklearn.metrics.pairwise import linear_kernel\n",
    "def cosine_sim_generator(matrix):\n",
    "    # Compute the cosine similarity matrix\n",
    "    cosine_sim = linear_kernel(matrix, matrix)\n",
    "    return(cosine_sim)"
   ]
  },
  {
   "cell_type": "code",
   "execution_count": 244,
   "metadata": {},
   "outputs": [
    {
     "name": "stdout",
     "output_type": "stream",
     "text": [
      "[[1.         0.74526744 0.42944732 ... 0.         0.         0.        ]\n",
      " [0.74526744 1.         0.5762325  ... 0.         0.         0.        ]\n",
      " [0.42944732 0.5762325  1.         ... 0.         0.         0.        ]\n",
      " ...\n",
      " [0.         0.         0.         ... 1.         0.         0.        ]\n",
      " [0.         0.         0.         ... 0.         0.         0.        ]\n",
      " [0.         0.         0.         ... 0.         0.         1.        ]]\n",
      "[[1.         0.0128521  0.         ... 0.02125933 0.         0.        ]\n",
      " [0.0128521  1.         0.         ... 0.02621901 0.         0.        ]\n",
      " [0.         0.         1.         ... 0.         0.         0.        ]\n",
      " ...\n",
      " [0.02125933 0.02621901 0.         ... 1.         0.         0.        ]\n",
      " [0.         0.         0.         ... 0.         0.         0.        ]\n",
      " [0.         0.         0.         ... 0.         0.         1.        ]]\n",
      "[[1.         0.28355137 0.49093995 ... 0.28355137 0.28355137 0.28355137]\n",
      " [0.28355137 1.         0.1392067  ... 1.         1.         1.        ]\n",
      " [0.49093995 0.1392067  1.         ... 0.1392067  0.1392067  0.1392067 ]\n",
      " ...\n",
      " [0.28355137 1.         0.1392067  ... 1.         1.         1.        ]\n",
      " [0.28355137 1.         0.1392067  ... 1.         1.         1.        ]\n",
      " [0.28355137 1.         0.1392067  ... 1.         1.         1.        ]]\n",
      "[[1.         0.         0.         ... 0.         0.         0.        ]\n",
      " [0.         1.         0.         ... 0.02160533 0.         0.        ]\n",
      " [0.         0.         1.         ... 0.01488159 0.         0.        ]\n",
      " ...\n",
      " [0.         0.02160533 0.01488159 ... 1.         0.01609091 0.00701914]\n",
      " [0.         0.         0.         ... 0.01609091 1.         0.01171696]\n",
      " [0.         0.         0.         ... 0.00701914 0.01171696 1.        ]]\n"
     ]
    }
   ],
   "source": [
    "cosine_sim = cosine_sim_generator(tfidf_matrix)\n",
    "print(cosine_sim)\n",
    "cosine_sim2 = cosine_sim_generator(tfidf_matrix2)\n",
    "print(cosine_sim2)\n",
    "cosine_sim3 = cosine_sim_generator(tfidf_matrix3)\n",
    "print(cosine_sim3)\n",
    "cosine_sim4 = cosine_sim_generator(tfidf_matrix4)\n",
    "print(cosine_sim4)\n"
   ]
  },
  {
   "cell_type": "code",
   "execution_count": 245,
   "metadata": {},
   "outputs": [
    {
     "name": "stdout",
     "output_type": "stream",
     "text": [
      "title\n",
      "Avatar                                         0\n",
      "Pirates of the Caribbean: At World's End       1\n",
      "Spectre                                        2\n",
      "The Dark Knight Rises                          3\n",
      "John Carter                                    4\n",
      "                                            ... \n",
      "El Mariachi                                 4798\n",
      "Newlyweds                                   4799\n",
      "Signed, Sealed, Delivered                   4800\n",
      "Shanghai Calling                            4801\n",
      "My Date with Drew                           4802\n",
      "Length: 4803, dtype: int64\n"
     ]
    }
   ],
   "source": [
    "# Create a reverse mapping of movie titles to index\n",
    "indices = pd.Series(df.index, index=df['title']).drop_duplicates()\n",
    "print(indices)"
   ]
  },
  {
   "cell_type": "code",
   "execution_count": 246,
   "metadata": {},
   "outputs": [],
   "source": [
    "def getRecommendation(title, cosine_sim,count):\n",
    "    \n",
    "    # Get the index of the movie that matches the title\n",
    "    idx = indices[title]\n",
    "\n",
    "    # Get the pairwise similarity scores of all movies with that movie\n",
    "    sim_scores = list(enumerate(cosine_sim[idx]))\n",
    "\n",
    "    # Sort the movies based on the similarity scores\n",
    "    sim_scores = sorted(sim_scores, key=lambda x: x[1], reverse=True)\n",
    "\n",
    "    # Get the scores of the 10 most similar movies\n",
    "    sim_scores = sim_scores[1:(count+1)]\n",
    "\n",
    "    # Get the movie indices\n",
    "    movie_indices = [i[0] for i in sim_scores]\n",
    "    \n",
    "    # Get the movie titles of the top 10 most similar movies\n",
    "    recommended_movies = df['title'].iloc[movie_indices]\n",
    "\n",
    "    # Store movie titles in an array (list or numpy array)\n",
    "    movie_titles_array = recommended_movies.tolist()  # Using list\n",
    "    # movie_titles_array = np.array(recommended_movies)  # Using numpy array\n",
    "    \n",
    "    return movie_titles_array\n",
    "\n",
    "# Example usage\n",
    "\n"
   ]
  },
  {
   "cell_type": "code",
   "execution_count": 252,
   "metadata": {},
   "outputs": [],
   "source": [
    "\n",
    "PrimaryArray+=getRecommendation(\"Evil Words\",cosine_sim,10)\n",
    "PrimaryArray+=getRecommendation(\"Evil Words\",cosine_sim2,10)\n",
    "SecendoryArray+=getRecommendation(\"Evil Words\",cosine_sim3,100)\n",
    "SecendoryArray+=getRecommendation(\"Evil Words\",cosine_sim4,100)"
   ]
  },
  {
   "cell_type": "code",
   "execution_count": 248,
   "metadata": {},
   "outputs": [
    {
     "name": "stdout",
     "output_type": "stream",
     "text": [
      "['The Relic', 'From Hell', 'The Ninth Gate', 'Mirrors', 'Case 39', 'Hide and Seek', 'I Still Know What You Did Last Summer', 'Orphan', 'Ghost Ship', 'The Stepfather', 'The Life Before Her Eyes', 'The Cry of the Owl', 'Perrier’s Bounty', 'London to Brighton', 'Mercy Streets', 'The Dead Zone', 'Frenzy', 'Halloween', \"Don't Say a Word\", 'The Contender']\n"
     ]
    }
   ],
   "source": [
    "print(PrimaryArray)"
   ]
  },
  {
   "cell_type": "code",
   "execution_count": 249,
   "metadata": {},
   "outputs": [
    {
     "name": "stdout",
     "output_type": "stream",
     "text": [
      "['Jumper', 'Evolution', 'Oceans', 'Up Close & Personal', 'Micmacs', 'A Monster in Paris', 'Little Nicholas', 'Little White Lies', 'The Visitors II: The Corridors of Time', 'Dragon Hunters', 'The Artist', 'See Spot Run', 'Welcome to the Sticks', 'District B13', 'The Diving Bell and the Butterfly', 'Wild Grass', 'The Widow of Saint-Pierre', 'Ernest & Celestine', 'The Bélier Family', 'Elsa & Fred', 'Amour', 'Barbecue', 'The Girl on the Train', '8 Women', 'Betty Fisher and Other Stories', 'The Visitors', 'The Flower of Evil', 'The Chorus', 'Le Havre', 'Irreversible', 'Camping Sauvage', 'The Names of Love', \"Mozart's Sister\", 'Silent Movie', 'Holy Motors', 'The Class', 'Evil Words', 'Subway', 'One to Another', 'Mississippi Mermaid', 'The Blue Room', 'Desire', 'Elza', 'The Country Doctor', \"When the Cat's Away\", 'Pierrot le Fou', 'The Case of the Grinning Cat', 'The Married Woman', 'Spider-Man 3', 'G.I. Joe: The Rise of Cobra', 'Harry Potter and the Goblet of Fire', 'The Matrix Revolutions', 'Rise of the Guardians', 'The Revenant', 'The Princess and the Frog', 'Casino Royale', 'The Wolf of Wall Street', 'The Incredibles', 'Sherlock Holmes', \"It's Complicated\", \"Something's Gotta Give\", 'Little Nicky', 'Mars Attacks!', 'Surrogates', 'Battlefield Earth', 'Timeline', 'The Postman', 'Now You See Me', 'First Knight', 'Alvin and the Chipmunks: The Squeakquel', 'The Score', 'What Women Want', 'The Green Mile', 'The Happening', 'Intolerable Cruelty', 'Flyboys', 'Maid in Manhattan', 'Catch Me If You Can', 'Erin Brockovich', 'Interview with the Vampire', 'Congo', 'Unfaithful', 'I Am Number Four', 'Hereafter', 'Anna Karenina', 'Kate & Leopold', 'Last Holiday', 'Boomerang', 'Why I Did (Not) Eat My Father', 'Julie & Julia', 'The Last of the Mohicans', 'Just Visiting', 'Batman', 'The Devil Wears Prada', 'The Walk', 'The Grand Budapest Hotel', 'Atonement', 'Side Effects', 'Alex & Emma', 'An Unfinished Life', 'Spellbound', 'Instinct', 'An American Haunting', 'High Anxiety', 'A Man for All Seasons', 'A Civil Action', 'The Girl on the Train', 'Don Juan DeMarco', \"Hell's Angels\", 'Shanghai Knights', 'Dr. Dolittle 2', 'Basic Instinct 2', 'Before I Go to Sleep', 'Regression', 'The Dark Hours', 'Kick-Ass', 'I, Robot', 'Austin Powers: The Spy Who Shagged Me', 'Rise of the Entrepreneur: The Search for a Better Way', 'Mary Reilly', 'The Holy Girl', 'Rob Roy', 'Smoke Signals', 'A Dangerous Method', 'Automata', 'Young Sherlock Holmes', 'Jekyll and Hyde ... Together Again', 'Krrish', 'Extraordinary Measures', '2012', 'All Good Things', 'Gossip', 'The Last Exorcism Part II', 'Romeo Is Bleeding', 'Boynton Beach Club', 'Dances with Wolves', 'Analyze That', 'Atonement', 'Femme Fatale', 'You Only Live Twice', 'Survivor', 'Deconstructing Harry', 'Body of Lies', 'Austin Powers: International Man of Mystery', 'Penguins of Madagascar', 'Pineapple Express', 'Goosebumps', 'Frequency', 'Seed of Chucky', 'Child 44', 'I, Frankenstein', 'Timecrimes', 'Money Train', 'K-PAX', 'Certifiably Jonathan', 'Gravity', 'Shutter Island', 'The Haunting', 'Dark Blue', 'Eight Below', 'Dolphin Tale 2', 'Pathology', \"The Nun's Story\", 'Thomas and the Magic Railroad', 'The Invasion', 'Raiders of the Lost Ark', 'Jurassic Park III', 'Kingpin', 'Donnie Darko', 'Two Evil Eyes', 'The Big Lebowski', 'Stand by Me', 'Sky Captain and the World of Tomorrow', 'A Thousand Words', 'Next Day Air', 'Shanghai Noon', 'Halloween 4: The Return of Michael Myers', 'Akeelah and the Bee', 'Fear and Loathing in Las Vegas', 'The I Inside', 'Analyze This', 'Last Vegas', 'The Last Five Years', 'Dance Flick', 'Love Happens', 'Young Frankenstein', 'Super 8', 'El Mariachi', 'Eyes Wide Shut', 'My Blueberry Nights', 'Young Adult', 'Troll Hunter', 'Austin Powers in Goldmember', 'All About Steve', 'The Fisher King', 'Somewhere in Time', 'Training Day', \"Gentleman's Agreement\", 'Bang', 'The Glimmer Man']\n"
     ]
    }
   ],
   "source": [
    "print(SecendoryArray)"
   ]
  },
  {
   "cell_type": "code",
   "execution_count": 250,
   "metadata": {},
   "outputs": [
    {
     "name": "stdout",
     "output_type": "stream",
     "text": [
      "['The Relic', 'From Hell', 'The Ninth Gate', 'Mirrors', 'Case 39', 'Hide and Seek', 'I Still Know What You Did Last Summer', 'Orphan', 'Ghost Ship', 'The Stepfather', 'The Life Before Her Eyes', 'The Cry of the Owl', 'Perrier’s Bounty', 'London to Brighton', 'Mercy Streets', 'The Dead Zone', 'Frenzy', 'Halloween', \"Don't Say a Word\", 'The Contender']\n"
     ]
    }
   ],
   "source": [
    "#Keeping The items that are also in Array1\n",
    "SecendoryArray = [item for item in SecendoryArray if item in PrimaryArray]\n",
    "PrimaryArray+=SecendoryArray\n",
    "print(PrimaryArray)"
   ]
  },
  {
   "cell_type": "code",
   "execution_count": 251,
   "metadata": {},
   "outputs": [
    {
     "name": "stdout",
     "output_type": "stream",
     "text": [
      "['The Relic', 'From Hell', 'The Ninth Gate', 'Mirrors', 'Case 39', 'Hide and Seek', 'I Still Know What You Did Last Summer', 'Orphan', 'Ghost Ship', 'The Stepfather']\n"
     ]
    }
   ],
   "source": [
    "from collections import Counter\n",
    "\n",
    "# Count the occurrences of each movie title\n",
    "movie_counts = Counter(PrimaryArray)\n",
    "\n",
    "# Get the top 10 most common movie titles\n",
    "top_10_movies = movie_counts.most_common(10)\n",
    "\n",
    "# Extract only the movie titles\n",
    "top_10_titles = [movie[0] for movie in top_10_movies]\n",
    "\n",
    "print(top_10_titles)"
   ]
  }
 ],
 "metadata": {
  "kernelspec": {
   "display_name": "Python 3",
   "language": "python",
   "name": "python3"
  },
  "language_info": {
   "codemirror_mode": {
    "name": "ipython",
    "version": 3
   },
   "file_extension": ".py",
   "mimetype": "text/x-python",
   "name": "python",
   "nbconvert_exporter": "python",
   "pygments_lexer": "ipython3",
   "version": "3.12.3"
  }
 },
 "nbformat": 4,
 "nbformat_minor": 2
}
